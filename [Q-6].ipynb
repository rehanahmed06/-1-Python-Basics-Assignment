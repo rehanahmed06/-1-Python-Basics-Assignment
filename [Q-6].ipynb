{
 "cells": [
  {
   "cell_type": "code",
   "execution_count": 31,
   "id": "239480b1-8345-485e-9674-8a39c0607643",
   "metadata": {},
   "outputs": [
    {
     "name": "stdout",
     "output_type": "stream",
     "text": [
      "x is positive\n"
     ]
    }
   ],
   "source": [
    "x = 9\n",
    "\n",
    "if x > 8:\n",
    "    print(\"x is positive\")\n",
    "elif x == 9:\n",
    "    print(\"x is zero\")\n",
    "else:\n",
    "    print(\"x is negative\")"
   ]
  },
  {
   "cell_type": "code",
   "execution_count": 28,
   "id": "72b6ae17-1b4f-4b47-bd59-f6c33c87c28f",
   "metadata": {},
   "outputs": [
    {
     "name": "stdout",
     "output_type": "stream",
     "text": [
      "y is zero\n"
     ]
    }
   ],
   "source": [
    "y = 12\n",
    "\n",
    "if y > 13:\n",
    "    print(\"y is positive\")\n",
    "elif y == 12:\n",
    "    print(\"y is zero\")\n",
    "else:\n",
    "    print(\"y is negative\")"
   ]
  },
  {
   "cell_type": "code",
   "execution_count": 29,
   "id": "df8194e0-7d65-4c59-8b7a-f943f000789d",
   "metadata": {},
   "outputs": [
    {
     "name": "stdout",
     "output_type": "stream",
     "text": [
      "z is negative\n"
     ]
    }
   ],
   "source": [
    "#Conditional statements work in Python\n",
    "z = 10\n",
    "\n",
    "if z > 11:\n",
    "    print(\"z is positive\")\n",
    "elif z == 9:\n",
    "    print(\"z is zero\")\n",
    "else:\n",
    "    print(\"z is negative\")"
   ]
  }
 ],
 "metadata": {
  "kernelspec": {
   "display_name": "Python 3 (ipykernel)",
   "language": "python",
   "name": "python3"
  },
  "language_info": {
   "codemirror_mode": {
    "name": "ipython",
    "version": 3
   },
   "file_extension": ".py",
   "mimetype": "text/x-python",
   "name": "python",
   "nbconvert_exporter": "python",
   "pygments_lexer": "ipython3",
   "version": "3.10.8"
  }
 },
 "nbformat": 4,
 "nbformat_minor": 5
}

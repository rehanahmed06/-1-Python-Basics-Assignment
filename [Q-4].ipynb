{
 "cells": [
  {
   "cell_type": "code",
   "execution_count": 30,
   "id": "0560a494-4327-4df1-9851-ace92e9077b1",
   "metadata": {},
   "outputs": [],
   "source": [
    "#operators in Python\n",
    "x=10\n",
    "y=5"
   ]
  },
  {
   "cell_type": "code",
   "execution_count": 31,
   "id": "f056ee56-ebb8-4c08-82ec-38341e191ce3",
   "metadata": {},
   "outputs": [
    {
     "name": "stdout",
     "output_type": "stream",
     "text": [
      "15\n",
      "5\n",
      "50\n",
      "2.0\n"
     ]
    }
   ],
   "source": [
    "# 1.y Arithmetic operators\n",
    "print(x + y) \n",
    "print(x - y)\n",
    "print(x * y)\n",
    "print(x / y)"
   ]
  },
  {
   "cell_type": "code",
   "execution_count": 32,
   "id": "3fdc817d-4447-441d-9e02-61e6f15e2e97",
   "metadata": {},
   "outputs": [
    {
     "name": "stdout",
     "output_type": "stream",
     "text": [
      "True\n",
      "False\n"
     ]
    }
   ],
   "source": [
    "# 2. Comparison operators\n",
    "print(x > y)\n",
    "print(x < y)"
   ]
  },
  {
   "cell_type": "code",
   "execution_count": 33,
   "id": "5b50ecdb-4a05-47b0-ace0-5498aa75ce49",
   "metadata": {},
   "outputs": [
    {
     "name": "stdout",
     "output_type": "stream",
     "text": [
      "True\n",
      "True\n",
      "False\n",
      "True\n"
     ]
    }
   ],
   "source": [
    "# 3. Logical operators\n",
    "print(x > 5 and y < 10)\n",
    "print(x > 5 or y > 10)\n",
    "print(x < 5 and y > 10)\n",
    "print(x < 5 or y < 10)"
   ]
  },
  {
   "cell_type": "code",
   "execution_count": 34,
   "id": "d1167cfa-ae6c-4eb1-9285-1471014bc1d7",
   "metadata": {
    "tags": []
   },
   "outputs": [
    {
     "name": "stdout",
     "output_type": "stream",
     "text": [
      "10\n",
      "20\n"
     ]
    }
   ],
   "source": [
    "# 4. Assignment operators\n",
    "y +=5\n",
    "print(y)\n",
    "x +=10\n",
    "print(x)"
   ]
  }
 ],
 "metadata": {
  "kernelspec": {
   "display_name": "Python 3 (ipykernel)",
   "language": "python",
   "name": "python3"
  },
  "language_info": {
   "codemirror_mode": {
    "name": "ipython",
    "version": 3
   },
   "file_extension": ".py",
   "mimetype": "text/x-python",
   "name": "python",
   "nbconvert_exporter": "python",
   "pygments_lexer": "ipython3",
   "version": "3.10.8"
  }
 },
 "nbformat": 4,
 "nbformat_minor": 5
}
